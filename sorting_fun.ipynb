{
 "cells": [
  {
   "cell_type": "markdown",
   "metadata": {},
   "source": [
    "# Sorting Fun\n",
    "\n",
    "Some fun with classic sorting algorithms in python. Do math! Stay Sharp!\n",
    "\n",
    "I'll use python lists of integers with the standard comparison operator `<`. These will also avoid recursion and use their own stacks or data structures to encode state and loop until done."
   ]
  },
  {
   "cell_type": "code",
   "execution_count": 1,
   "metadata": {
    "collapsed": true
   },
   "outputs": [],
   "source": [
    "import random\n",
    "import math\n",
    "from copy import copy\n",
    "\n",
    "random.seed(42)"
   ]
  },
  {
   "cell_type": "markdown",
   "metadata": {},
   "source": [
    "Add a helper function to run a given sort function on a given sample (or make up a simple sample) and print out nice things about it."
   ]
  },
  {
   "cell_type": "code",
   "execution_count": 2,
   "metadata": {
    "collapsed": true
   },
   "outputs": [],
   "source": [
    "def sort_example(func=None, sample=None):\n",
    "    if sample is None:\n",
    "        sample = [random.randint(0,50) for _ in range(15)]\n",
    "    check_sample = copy(sample)\n",
    "    print(f'List to sort: {sample}')\n",
    "    print('\\nStarting sort algorithm...\\n')\n",
    "    func(sample)\n",
    "    print('\\nSorting completed!\\n')\n",
    "    print(f'Sorted list: {sample}')\n",
    "    if sorted(check_sample) == sample:\n",
    "        print('Sorting was done correctly!')\n",
    "    else:\n",
    "        print(\"Oh that's just not right.\")"
   ]
  },
  {
   "cell_type": "markdown",
   "metadata": {},
   "source": [
    "### Bubble sort\n",
    "\n",
    "Start with good old bubble sort, `O(n**2)`."
   ]
  },
  {
   "cell_type": "code",
   "execution_count": 3,
   "metadata": {},
   "outputs": [],
   "source": [
    "def bubble(x):\n",
    "    for i in range(len(x)):\n",
    "        for j in range(i, len(x)):\n",
    "            if x[i] > x[j]:\n",
    "                x[i], x[j] = x[j], x[i]"
   ]
  },
  {
   "cell_type": "code",
   "execution_count": 4,
   "metadata": {},
   "outputs": [
    {
     "name": "stdout",
     "output_type": "stream",
     "text": [
      "List to sort: [40, 7, 1, 47, 17, 15, 14, 8, 47, 6, 43, 47, 34, 5, 37]\n",
      "\n",
      "Starting sort algorithm...\n",
      "\n",
      "\n",
      "Sorting completed!\n",
      "\n",
      "Sorted list: [1, 5, 6, 7, 8, 14, 15, 17, 34, 37, 40, 43, 47, 47, 47]\n",
      "Sorting was done correctly!\n"
     ]
    }
   ],
   "source": [
    "sort_example(func=bubble)"
   ]
  },
  {
   "cell_type": "markdown",
   "metadata": {},
   "source": [
    "### Quick Sort\n",
    "\n",
    "For this I'll use the last element of each sublist as a pivot, which simplifies the implementation. The function will keep a stack of sublists that it needs to sort and finish when there is no more work. It will print out the stack of sublists before it starts each piece of work."
   ]
  },
  {
   "cell_type": "code",
   "execution_count": 5,
   "metadata": {},
   "outputs": [],
   "source": [
    "def quick(x):\n",
    "    stack = [(0,len(x)-1)]\n",
    "    while stack:\n",
    "        print(f'current stack: {stack}')\n",
    "        first, last = stack.pop()\n",
    "        pivot = last\n",
    "        current = first\n",
    "        while current < pivot:\n",
    "            while x[current] > x[pivot]:\n",
    "                x[current], x[pivot-1], x[pivot] = x[pivot-1], x[pivot], x[current]\n",
    "                pivot -= 1\n",
    "            current += 1\n",
    "        if first < pivot-1:\n",
    "            stack.append((first, pivot-1))\n",
    "        if pivot+1 < last:\n",
    "            stack.append((pivot+1, last))      "
   ]
  },
  {
   "cell_type": "code",
   "execution_count": 6,
   "metadata": {},
   "outputs": [
    {
     "name": "stdout",
     "output_type": "stream",
     "text": [
      "List to sort: [27, 2, 1, 5, 13, 14, 32, 38, 1, 35, 12, 45, 41, 44, 34]\n",
      "\n",
      "Starting sort algorithm...\n",
      "\n",
      "current stack: [(0, 14)]\n",
      "current stack: [(0, 8), (10, 14)]\n",
      "current stack: [(0, 8), (12, 14)]\n",
      "current stack: [(0, 8), (12, 13)]\n",
      "current stack: [(0, 8)]\n",
      "current stack: [(2, 8)]\n",
      "current stack: [(2, 6)]\n",
      "current stack: [(2, 3), (5, 6)]\n",
      "current stack: [(2, 3)]\n",
      "\n",
      "Sorting completed!\n",
      "\n",
      "Sorted list: [1, 1, 2, 5, 12, 13, 14, 27, 32, 34, 35, 38, 41, 44, 45]\n",
      "Sorting was done correctly!\n"
     ]
    }
   ],
   "source": [
    "sort_example(func=quick)"
   ]
  },
  {
   "cell_type": "markdown",
   "metadata": {},
   "source": [
    "Using the last element as a pivot is worst-case in the scenario where a list is already sorted:"
   ]
  },
  {
   "cell_type": "code",
   "execution_count": 7,
   "metadata": {},
   "outputs": [
    {
     "name": "stdout",
     "output_type": "stream",
     "text": [
      "List to sort: [0, 1, 2, 3, 4, 5, 6, 7, 8, 9, 10, 11, 12, 13, 14]\n",
      "\n",
      "Starting sort algorithm...\n",
      "\n",
      "current stack: [(0, 14)]\n",
      "current stack: [(0, 13)]\n",
      "current stack: [(0, 12)]\n",
      "current stack: [(0, 11)]\n",
      "current stack: [(0, 10)]\n",
      "current stack: [(0, 9)]\n",
      "current stack: [(0, 8)]\n",
      "current stack: [(0, 7)]\n",
      "current stack: [(0, 6)]\n",
      "current stack: [(0, 5)]\n",
      "current stack: [(0, 4)]\n",
      "current stack: [(0, 3)]\n",
      "current stack: [(0, 2)]\n",
      "current stack: [(0, 1)]\n",
      "\n",
      "Sorting completed!\n",
      "\n",
      "Sorted list: [0, 1, 2, 3, 4, 5, 6, 7, 8, 9, 10, 11, 12, 13, 14]\n",
      "Sorting was done correctly!\n"
     ]
    }
   ],
   "source": [
    "sort_example(\n",
    "    func=quick,\n",
    "    sample=[x for x in range(15)]\n",
    ")"
   ]
  },
  {
   "cell_type": "markdown",
   "metadata": {},
   "source": [
    "### Radix sort\n",
    "\n",
    "I just really like radix sort, interesting performance characteristics. Also the fact that it has been mechanically implemented for sorting punchcards."
   ]
  },
  {
   "cell_type": "code",
   "execution_count": 8,
   "metadata": {
    "collapsed": true
   },
   "outputs": [],
   "source": [
    "def radix(x):\n",
    "    \"\"\"Must be a list of integers\"\"\"\n",
    "    digits = math.ceil(math.log(max(x), 10))\n",
    "    for d in range(digits):\n",
    "        buckets = [[] for _ in range(10)]\n",
    "        for item in x:\n",
    "            buckets[(item // (10**d)) % 10].append(item)\n",
    "        print(f'Status at digit {d}: {buckets}')\n",
    "        for i in range(1,10):\n",
    "            buckets[0].extend(buckets[i])\n",
    "        x.clear()\n",
    "        x.extend(buckets[0])\n"
   ]
  },
  {
   "cell_type": "code",
   "execution_count": 9,
   "metadata": {},
   "outputs": [
    {
     "name": "stdout",
     "output_type": "stream",
     "text": [
      "List to sort: [26, 14, 28, 37, 17, 0, 48, 10, 44, 27, 21, 17, 9, 13, 48]\n",
      "\n",
      "Starting sort algorithm...\n",
      "\n",
      "Status at digit 0: [[0, 10], [21], [], [13], [14, 44], [], [26], [37, 17, 27, 17], [28, 48, 48], [9]]\n",
      "Status at digit 1: [[0, 9], [10, 13, 14, 17, 17], [21, 26, 27, 28], [37], [44, 48, 48], [], [], [], [], []]\n",
      "\n",
      "Sorting completed!\n",
      "\n",
      "Sorted list: [0, 9, 10, 13, 14, 17, 17, 21, 26, 27, 28, 37, 44, 48, 48]\n",
      "Sorting was done correctly!\n"
     ]
    }
   ],
   "source": [
    "sort_example(func=radix)"
   ]
  },
  {
   "cell_type": "code",
   "execution_count": 10,
   "metadata": {},
   "outputs": [
    {
     "name": "stdout",
     "output_type": "stream",
     "text": [
      "List to sort: [344, 104, 94, 389, 99, 367, 867, 352, 618, 270, 826, 44, 747, 470, 549]\n",
      "\n",
      "Starting sort algorithm...\n",
      "\n",
      "Status at digit 0: [[270, 470], [], [352], [], [344, 104, 94, 44], [], [826], [367, 867, 747], [618], [389, 99, 549]]\n",
      "Status at digit 1: [[104], [618], [826], [], [344, 44, 747, 549], [352], [367, 867], [270, 470], [389], [94, 99]]\n",
      "Status at digit 2: [[44, 94, 99], [104], [270], [344, 352, 367, 389], [470], [549], [618], [747], [826, 867], []]\n",
      "\n",
      "Sorting completed!\n",
      "\n",
      "Sorted list: [44, 94, 99, 104, 270, 344, 352, 367, 389, 470, 549, 618, 747, 826, 867]\n",
      "Sorting was done correctly!\n"
     ]
    }
   ],
   "source": [
    "sort_example(\n",
    "    func=radix,\n",
    "    sample=[random.randint(0, 1000) for _ in range(15)]\n",
    ")"
   ]
  },
  {
   "cell_type": "markdown",
   "metadata": {},
   "source": [
    "### Merge Sort\n",
    "\n",
    "This was a bit harder than expected to implement _without_ using recursion. Its bottom up and uses python slicing notation to make buffer lists. The `IndexError` handling seems inelegant, but I can't think of anything nicer offhand."
   ]
  },
  {
   "cell_type": "code",
   "execution_count": 11,
   "metadata": {},
   "outputs": [],
   "source": [
    "def merge(x):\n",
    "    blocksize = 1\n",
    "    while blocksize < len(x):\n",
    "        for first_start in range(0, len(x), blocksize*2):\n",
    "            first_end = min(first_start + blocksize, len(x))\n",
    "            second_start = first_start + blocksize\n",
    "            second_end = min(second_start + blocksize, len(x))\n",
    "\n",
    "            first = x[first_start:first_end]\n",
    "            second = x[second_start:second_end]\n",
    "            first_pos = 0\n",
    "            second_pos = 0\n",
    "            \n",
    "            for pos in range(first_start, second_end):\n",
    "                if _edge_leq(first, first_pos, second, second_pos):\n",
    "                    x[pos] = first[first_pos]\n",
    "                    first_pos += 1\n",
    "                else:\n",
    "                    x[pos] = second[second_pos]\n",
    "                    second_pos += 1\n",
    "\n",
    "        blocksize *= 2\n",
    "        pretty = [x[a:a+blocksize] for a in range(0, len(x), blocksize)]\n",
    "        print(f'Status at block size {blocksize}: {pretty}')\n",
    "\n",
    "        \n",
    "def _edge_leq(first, first_pos, second, second_pos):\n",
    "    \"\"\"\n",
    "    helper function to compare list elements as <= but catch index errors if\n",
    "    one of the two list positions is out of bounds\n",
    "    \"\"\"\n",
    "    try:\n",
    "        return first[first_pos] <= second[second_pos]\n",
    "    except IndexError:\n",
    "        if first_pos < len(first):\n",
    "            return True\n",
    "        elif second_pos < len(second):\n",
    "            return False\n",
    "        else:\n",
    "            raise"
   ]
  },
  {
   "cell_type": "code",
   "execution_count": 12,
   "metadata": {},
   "outputs": [
    {
     "name": "stdout",
     "output_type": "stream",
     "text": [
      "List to sort: [7, 24, 5, 35, 18, 40, 39, 23, 36, 12, 45, 4, 2, 42, 14]\n",
      "\n",
      "Starting sort algorithm...\n",
      "\n",
      "Status at block size 2: [[7, 24], [5, 35], [18, 40], [23, 39], [12, 36], [4, 45], [2, 42], [14]]\n",
      "Status at block size 4: [[5, 7, 24, 35], [18, 23, 39, 40], [4, 12, 36, 45], [2, 14, 42]]\n",
      "Status at block size 8: [[5, 7, 18, 23, 24, 35, 39, 40], [2, 4, 12, 14, 36, 42, 45]]\n",
      "Status at block size 16: [[2, 4, 5, 7, 12, 14, 18, 23, 24, 35, 36, 39, 40, 42, 45]]\n",
      "\n",
      "Sorting completed!\n",
      "\n",
      "Sorted list: [2, 4, 5, 7, 12, 14, 18, 23, 24, 35, 36, 39, 40, 42, 45]\n",
      "Sorting was done correctly!\n"
     ]
    }
   ],
   "source": [
    "sort_example(func=merge)"
   ]
  },
  {
   "cell_type": "markdown",
   "metadata": {},
   "source": [
    "### Insertion Sort\n",
    "\n",
    "Good for smaller lists"
   ]
  },
  {
   "cell_type": "code",
   "execution_count": 13,
   "metadata": {
    "collapsed": true
   },
   "outputs": [],
   "source": [
    "def insertion(x):\n",
    "    sort_pos = 1\n",
    "    while sort_pos < len(x):\n",
    "        for idx in range(sort_pos):\n",
    "            if x[idx] > x[sort_pos]:\n",
    "                _insert_shift(x, idx, sort_pos)\n",
    "                break\n",
    "        sort_pos += 1\n",
    "\n",
    "def _insert_shift(x, new_pos, old_pos):\n",
    "    \"\"\"\n",
    "    Move element at old_pos to new_pos and shift everything\n",
    "    in between up one position\n",
    "    \"\"\"\n",
    "    val = x[old_pos]\n",
    "    for idx in range(old_pos-1, new_pos-1, -1):\n",
    "        x[idx + 1] = x[idx]\n",
    "    x[new_pos] = val"
   ]
  },
  {
   "cell_type": "code",
   "execution_count": 14,
   "metadata": {},
   "outputs": [
    {
     "name": "stdout",
     "output_type": "stream",
     "text": [
      "List to sort: [49, 18, 5, 14, 6, 24, 17, 29, 40, 23, 10, 23, 22, 13, 42]\n",
      "\n",
      "Starting sort algorithm...\n",
      "\n",
      "\n",
      "Sorting completed!\n",
      "\n",
      "Sorted list: [5, 6, 10, 13, 14, 17, 18, 22, 23, 23, 24, 29, 40, 42, 49]\n",
      "Sorting was done correctly!\n"
     ]
    }
   ],
   "source": [
    "sort_example(func=insertion)"
   ]
  },
  {
   "cell_type": "markdown",
   "metadata": {},
   "source": [
    "### Heapsort\n",
    "\n",
    "For heapsort I first need to implement a binary heap. What's cool about heapsort? It's `O(n log n)` even in the absolute worst case, so if you can't afford to ever go `O(n**2)`, then its preferred to quicksort."
   ]
  },
  {
   "cell_type": "code",
   "execution_count": 15,
   "metadata": {},
   "outputs": [],
   "source": [
    "class Heap(list):\n",
    "    def __init__(self, *args):\n",
    "        for arg in args:\n",
    "            self.upheap(arg)\n",
    "                \n",
    "    def upheap(self, val):\n",
    "        self.append(val)\n",
    "        \n",
    "        idx = len(self) - 1\n",
    "        parent = (idx - 1) // 2\n",
    "        while idx > 0 and self[idx] < self[parent]:\n",
    "            self[idx], self[parent] = self[parent], self[idx]\n",
    "            idx = parent\n",
    "            parent = (idx - 1) // 2\n",
    "\n",
    "    def downheap(self):\n",
    "        if len(self) == 1:\n",
    "            return self.pop()\n",
    "\n",
    "        result = self[0]\n",
    "        self[0] = self.pop()\n",
    "        \n",
    "        idx = 0\n",
    "        child = 2*idx + 1\n",
    "        while child < len(self):\n",
    "            child_num = 1\n",
    "            try:\n",
    "                if self[child + 1] < self[child]:\n",
    "                    child += 1\n",
    "                    child_num = 2\n",
    "                    \n",
    "            except IndexError:\n",
    "                pass\n",
    "                \n",
    "            if self[child] < self[idx]:\n",
    "                self[idx], self[child] = self[child], self[idx]\n",
    "            else:\n",
    "                break\n",
    "                \n",
    "            idx = 2*idx + child_num\n",
    "            child = 2*idx + 1\n",
    "                \n",
    "        return result"
   ]
  },
  {
   "cell_type": "markdown",
   "metadata": {},
   "source": [
    "Check that my heap really works:"
   ]
  },
  {
   "cell_type": "code",
   "execution_count": 16,
   "metadata": {},
   "outputs": [
    {
     "name": "stdout",
     "output_type": "stream",
     "text": [
      "[1, 2, 9, 12, 4, 23, 17]\n",
      "1\n",
      "[2, 4, 9, 12, 17, 23]\n",
      "2\n",
      "[4, 12, 9, 23, 17]\n",
      "4\n",
      "[9, 12, 17, 23]\n"
     ]
    }
   ],
   "source": [
    "h = Heap(12, 1, 23, 2, 4, 17, 9)\n",
    "print(h)\n",
    "print(h.downheap())\n",
    "print(h)\n",
    "print(h.downheap())\n",
    "print(h)\n",
    "print(h.downheap())\n",
    "print(h)"
   ]
  },
  {
   "cell_type": "markdown",
   "metadata": {},
   "source": [
    "Now I can easily implement heapsort. Unfortunately this isn't the smart and cool way where you do it in-place, growing the heap from the top end as you pull elements from the list:"
   ]
  },
  {
   "cell_type": "code",
   "execution_count": 17,
   "metadata": {
    "collapsed": true
   },
   "outputs": [],
   "source": [
    "def heapsort(x):\n",
    "    h = Heap(*x)\n",
    "    print(f'heap: {h}')\n",
    "    for idx in range(len(x)):\n",
    "        x[idx] = h.downheap()\n",
    "        print(f'idx: {idx} heap: {h}')"
   ]
  },
  {
   "cell_type": "code",
   "execution_count": 18,
   "metadata": {},
   "outputs": [
    {
     "name": "stdout",
     "output_type": "stream",
     "text": [
      "List to sort: [17, 44, 43, 41, 4, 38, 40, 10, 34, 46, 15, 10, 29, 24, 17]\n",
      "\n",
      "Starting sort algorithm...\n",
      "\n",
      "heap: [4, 10, 10, 17, 15, 29, 17, 44, 34, 46, 41, 43, 38, 40, 24]\n",
      "idx: 0 heap: [10, 15, 10, 17, 24, 29, 17, 44, 34, 46, 41, 43, 38, 40]\n",
      "idx: 1 heap: [10, 15, 17, 17, 24, 29, 40, 44, 34, 46, 41, 43, 38]\n",
      "idx: 2 heap: [15, 17, 17, 34, 24, 29, 40, 44, 38, 46, 41, 43]\n",
      "idx: 3 heap: [17, 24, 17, 34, 41, 29, 40, 44, 38, 46, 43]\n",
      "idx: 4 heap: [17, 24, 29, 34, 41, 43, 40, 44, 38, 46]\n",
      "idx: 5 heap: [24, 34, 29, 38, 41, 43, 40, 44, 46]\n",
      "idx: 6 heap: [29, 34, 40, 38, 41, 43, 46, 44]\n",
      "idx: 7 heap: [34, 38, 40, 44, 41, 43, 46]\n",
      "idx: 8 heap: [38, 41, 40, 44, 46, 43]\n",
      "idx: 9 heap: [40, 41, 43, 44, 46]\n",
      "idx: 10 heap: [41, 44, 43, 46]\n",
      "idx: 11 heap: [43, 44, 46]\n",
      "idx: 12 heap: [44, 46]\n",
      "idx: 13 heap: [46]\n",
      "idx: 14 heap: []\n",
      "\n",
      "Sorting completed!\n",
      "\n",
      "Sorted list: [4, 10, 10, 15, 17, 17, 24, 29, 34, 38, 40, 41, 43, 44, 46]\n",
      "Sorting was done correctly!\n"
     ]
    }
   ],
   "source": [
    "sort_example(func=heapsort)"
   ]
  },
  {
   "cell_type": "code",
   "execution_count": null,
   "metadata": {
    "collapsed": true
   },
   "outputs": [],
   "source": []
  }
 ],
 "metadata": {
  "kernelspec": {
   "display_name": "Python 3",
   "language": "python",
   "name": "python3"
  },
  "language_info": {
   "codemirror_mode": {
    "name": "ipython",
    "version": 3
   },
   "file_extension": ".py",
   "mimetype": "text/x-python",
   "name": "python",
   "nbconvert_exporter": "python",
   "pygments_lexer": "ipython3",
   "version": "3.6.1"
  }
 },
 "nbformat": 4,
 "nbformat_minor": 2
}
